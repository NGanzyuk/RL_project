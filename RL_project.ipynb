{
  "nbformat": 4,
  "nbformat_minor": 0,
  "metadata": {
    "colab": {
      "provenance": []
    },
    "kernelspec": {
      "name": "python3",
      "display_name": "Python 3"
    },
    "language_info": {
      "name": "python"
    }
  },
  "cells": [
    {
      "cell_type": "code",
      "execution_count": 4,
      "metadata": {
        "colab": {
          "base_uri": "https://localhost:8080/"
        },
        "id": "BUD59s9Pj0sn",
        "outputId": "e7976331-f6c6-4238-d226-664ed505af9c"
      },
      "outputs": [
        {
          "output_type": "stream",
          "name": "stdout",
          "text": [
            "Requirement already satisfied: gym in /usr/local/lib/python3.10/dist-packages (0.25.2)\n",
            "Requirement already satisfied: torch in /usr/local/lib/python3.10/dist-packages (2.5.1+cu121)\n",
            "Requirement already satisfied: torchvision in /usr/local/lib/python3.10/dist-packages (0.20.1+cu121)\n",
            "Requirement already satisfied: numpy>=1.18.0 in /usr/local/lib/python3.10/dist-packages (from gym) (1.26.4)\n",
            "Requirement already satisfied: cloudpickle>=1.2.0 in /usr/local/lib/python3.10/dist-packages (from gym) (3.1.0)\n",
            "Requirement already satisfied: gym_notices>=0.0.4 in /usr/local/lib/python3.10/dist-packages (from gym) (0.0.8)\n",
            "Requirement already satisfied: filelock in /usr/local/lib/python3.10/dist-packages (from torch) (3.16.1)\n",
            "Requirement already satisfied: typing-extensions>=4.8.0 in /usr/local/lib/python3.10/dist-packages (from torch) (4.12.2)\n",
            "Requirement already satisfied: networkx in /usr/local/lib/python3.10/dist-packages (from torch) (3.4.2)\n",
            "Requirement already satisfied: jinja2 in /usr/local/lib/python3.10/dist-packages (from torch) (3.1.4)\n",
            "Requirement already satisfied: fsspec in /usr/local/lib/python3.10/dist-packages (from torch) (2024.10.0)\n",
            "Requirement already satisfied: sympy==1.13.1 in /usr/local/lib/python3.10/dist-packages (from torch) (1.13.1)\n",
            "Requirement already satisfied: mpmath<1.4,>=1.1.0 in /usr/local/lib/python3.10/dist-packages (from sympy==1.13.1->torch) (1.3.0)\n",
            "Requirement already satisfied: pillow!=8.3.*,>=5.3.0 in /usr/local/lib/python3.10/dist-packages (from torchvision) (11.0.0)\n",
            "Requirement already satisfied: MarkupSafe>=2.0 in /usr/local/lib/python3.10/dist-packages (from jinja2->torch) (3.0.2)\n"
          ]
        }
      ],
      "source": [
        "!pip install gym torch torchvision"
      ]
    },
    {
      "cell_type": "code",
      "source": [
        "!sudo apt-get update\n",
        "!sudo apt-get install -y build-essential swig"
      ],
      "metadata": {
        "id": "AksRLwO1n_m1"
      },
      "execution_count": null,
      "outputs": []
    },
    {
      "cell_type": "code",
      "source": [
        "!pip install gym[box2d]"
      ],
      "metadata": {
        "id": "wVzfcWQDn_Cu"
      },
      "execution_count": null,
      "outputs": []
    },
    {
      "cell_type": "code",
      "source": [
        "import gym\n",
        "import numpy as np\n",
        "import torch\n",
        "import torch.nn as nn\n",
        "import torch.optim as optim\n",
        "import matplotlib.pyplot as plt\n",
        "from collections import deque"
      ],
      "metadata": {
        "id": "SQe-8-kEukxe"
      },
      "execution_count": 31,
      "outputs": []
    },
    {
      "cell_type": "code",
      "source": [
        "class QNetwork(nn.Module):\n",
        "    def __init__(self, state_dim, action_dim):\n",
        "        super(QNetwork, self).__init__()\n",
        "        self.fc1 = nn.Linear(state_dim, 256)\n",
        "        self.fc2 = nn.Linear(256, 256)\n",
        "        self.fc3 = nn.Linear(256, action_dim)\n",
        "\n",
        "    def forward(self, x):\n",
        "        x = torch.relu(self.fc1(x))\n",
        "        x = torch.relu(self.fc2(x))\n",
        "        return self.fc3(x)"
      ],
      "metadata": {
        "id": "v8RyZIX4um6B"
      },
      "execution_count": 32,
      "outputs": []
    },
    {
      "cell_type": "code",
      "source": [
        "class PolicyNetwork(nn.Module):\n",
        "    def __init__(self, state_dim, action_dim):\n",
        "        super(PolicyNetwork, self).__init__()\n",
        "        self.fc1 = nn.Linear(state_dim, 256)\n",
        "        self.fc2 = nn.Linear(256, 256)\n",
        "        self.fc3 = nn.Linear(256, action_dim)\n",
        "\n",
        "    def forward(self, x):\n",
        "        x = torch.relu(self.fc1(x))\n",
        "        x = torch.relu(self.fc2(x))\n",
        "        return torch.tanh(self.fc3(x))"
      ],
      "metadata": {
        "id": "gB6IFGNBungH"
      },
      "execution_count": 33,
      "outputs": []
    },
    {
      "cell_type": "code",
      "source": [
        "class Expert:\n",
        "    def __init__(self, env):\n",
        "        self.env = env\n",
        "        self.expert_policy = self.load_expert_policy()\n",
        "\n",
        "    def load_expert_policy(self):\n",
        "        # Здесь должен быть код для загрузки политики эксперта\n",
        "        return np.random.rand(1000, self.env.action_space.shape[0])\n",
        "\n",
        "    def get_expert_action(self, state):\n",
        "        index = np.random.randint(len(self.expert_policy))\n",
        "        return self.expert_policy[index]"
      ],
      "metadata": {
        "id": "0rdZ7eoEupDd"
      },
      "execution_count": 34,
      "outputs": []
    },
    {
      "cell_type": "code",
      "source": [
        "class SQILAgent:\n",
        "    def __init__(self, state_dim, action_dim):\n",
        "        self.q_network = QNetwork(state_dim, action_dim)\n",
        "        self.optimizer = optim.Adam(self.q_network.parameters(), lr=0.001)\n",
        "        self.replay_buffer = deque(maxlen=10000)\n",
        "        self.expert_data = []\n",
        "\n",
        "    def add_expert_data(self, state, action):\n",
        "        self.expert_data.append((state, action))\n",
        "\n",
        "    def select_action(self, state):\n",
        "        state_tensor = torch.FloatTensor(state).unsqueeze(0)\n",
        "        action = self.q_network(state_tensor).detach().numpy()[0]\n",
        "        return action\n",
        "\n",
        "    def train(self, batch_size):\n",
        "      if len(self.replay_buffer) < batch_size:\n",
        "          return\n",
        "\n",
        "      batch = np.random.choice(len(self.replay_buffer), batch_size)\n",
        "      states, actions = zip(*[self.replay_buffer[i] for i in batch])\n",
        "\n",
        "      states = torch.FloatTensor(states)\n",
        "      actions = torch.FloatTensor(actions)\n",
        "\n",
        "      q_values = self.q_network(states)\n",
        "\n",
        "      rewards = torch.zeros(batch_size)\n",
        "      for i, (state, action) in enumerate(zip(states, actions)):\n",
        "          if any(np.array_equal(state.numpy(), ex_state) and np.array_equal(action.numpy(), ex_action)\n",
        "                for ex_state, ex_action in self.expert_data):\n",
        "              rewards[i] = 1\n",
        "\n",
        "\n",
        "      action_indices = actions.argmax(dim=1)\n",
        "      q_values_for_actions = q_values.gather(1, action_indices.unsqueeze(1))\n",
        "\n",
        "      rewards = rewards.unsqueeze(1)\n",
        "\n",
        "      loss = nn.MSELoss()(q_values_for_actions, rewards)\n",
        "      self.optimizer.zero_grad()\n",
        "      loss.backward()\n",
        "      self.optimizer.step()"
      ],
      "metadata": {
        "id": "OIwVmpGjuuyg"
      },
      "execution_count": 60,
      "outputs": []
    },
    {
      "cell_type": "code",
      "source": [
        "class SACAgent:\n",
        "    def __init__(self, state_dim, action_dim):\n",
        "        self.q1_network = QNetwork(state_dim, action_dim)\n",
        "        self.q2_network = QNetwork(state_dim, action_dim)\n",
        "        self.policy_network = PolicyNetwork(state_dim, action_dim)\n",
        "\n",
        "        self.q1_optimizer = optim.Adam(self.q1_network.parameters(), lr=0.001)\n",
        "        self.q2_optimizer = optim.Adam(self.q2_network.parameters(), lr=0.001)\n",
        "        self.policy_optimizer = optim.Adam(self.policy_network.parameters(), lr=0.001)\n",
        "\n",
        "        self.replay_buffer = deque(maxlen=10000)\n",
        "        self.gamma = 0.99\n",
        "\n",
        "    def select_action(self, state):\n",
        "        state_tensor = torch.FloatTensor(state).unsqueeze(0)\n",
        "        action = self.policy_network(state_tensor).detach().numpy()[0]\n",
        "        return action\n",
        "\n",
        "    def add_to_replay_buffer(self, transition):\n",
        "        self.replay_buffer.append(transition)\n",
        "\n",
        "    def train(self, batch_size):\n",
        "        if len(self.replay_buffer) < batch_size:\n",
        "            return\n",
        "\n",
        "        batch = np.random.choice(len(self.replay_buffer), batch_size)\n",
        "        states, actions, rewards, next_states, dones = zip(*[self.replay_buffer[i] for i in batch])\n",
        "\n",
        "        states = torch.FloatTensor(states)\n",
        "        actions = torch.FloatTensor(actions)\n",
        "        rewards = torch.FloatTensor(rewards).unsqueeze(1)\n",
        "        next_states = torch.FloatTensor(next_states)\n",
        "        dones = torch.FloatTensor(dones).unsqueeze(1)\n",
        "\n",
        "        with torch.no_grad():\n",
        "            next_actions = self.policy_network(next_states)\n",
        "            q1_next = self.q1_network(next_states)\n",
        "            q2_next = self.q2_network(next_states)\n",
        "            target_q = rewards + (1 - dones) * self.gamma * torch.min(q1_next, q2_next)\n",
        "\n",
        "        q1_values = self.q1_network(states)\n",
        "        q2_values = self.q2_network(states)\n",
        "\n",
        "        q1_loss = nn.MSELoss()(q1_values, target_q)\n",
        "        q2_loss = nn.MSELoss()(q2_values, target_q)\n",
        "\n",
        "        self.q1_optimizer.zero_grad()\n",
        "        q1_loss.backward()\n",
        "        self.q1_optimizer.step()\n",
        "\n",
        "        self.q2_optimizer.zero_grad()\n",
        "        q2_loss.backward()\n",
        "        self.q2_optimizer.step()\n",
        "\n",
        "        policy_loss = -self.q1_network(states).mean()\n",
        "        self.policy_optimizer.zero_grad()\n",
        "        policy_loss.backward()\n",
        "        self.policy_optimizer.step()"
      ],
      "metadata": {
        "id": "Y24TXyImu5sV"
      },
      "execution_count": 36,
      "outputs": []
    },
    {
      "cell_type": "code",
      "source": [
        "def train_sqil_agent(env, agent, expert, episodes):\n",
        "    for episode in range(episodes):\n",
        "        state = env.reset()\n",
        "        done = False\n",
        "        while not done:\n",
        "            action = expert.get_expert_action(state)\n",
        "            agent.add_expert_data(state, action)\n",
        "            next_state, reward, done, _ = env.step(action)\n",
        "            agent.replay_buffer.append((state, action))\n",
        "            state = next_state\n",
        "            agent.train(64)"
      ],
      "metadata": {
        "id": "XRDU3ItPu_TM"
      },
      "execution_count": 37,
      "outputs": []
    },
    {
      "cell_type": "code",
      "source": [
        "def train_sac_agent(env, agent, episodes):\n",
        "    rewards_list = []\n",
        "    for episode in range(episodes):\n",
        "        state = env.reset()\n",
        "        total_reward = 0\n",
        "        done = False\n",
        "        while not done:\n",
        "            action = agent.select_action(state)\n",
        "            next_state, reward, done, _ = env.step(action)\n",
        "            agent.add_to_replay_buffer((state, action, reward, next_state, done))\n",
        "            agent.train(64)\n",
        "            state = next_state\n",
        "            total_reward += reward\n",
        "        rewards_list.append(total_reward)\n",
        "    return rewards_list"
      ],
      "metadata": {
        "id": "jKhltY3evEAc"
      },
      "execution_count": 38,
      "outputs": []
    },
    {
      "cell_type": "code",
      "source": [
        "def plot_results(sqil_rewards, sac_rewards):\n",
        "    plt.plot(sqil_rewards, label='SQIL')\n",
        "    plt.plot(sac_rewards, label='SAC')\n",
        "    plt.xlabel('Эпизоды')\n",
        "    plt.ylabel('Награда')\n",
        "    plt.legend()\n",
        "    plt.title('Сравнение SQIL и SAC')\n",
        "    plt.show()"
      ],
      "metadata": {
        "id": "irxMYSnmvGoJ"
      },
      "execution_count": 39,
      "outputs": []
    },
    {
      "cell_type": "code",
      "source": [
        "env = gym.make('LunarLanderContinuous-v2')"
      ],
      "metadata": {
        "id": "E2ym6r6GvPa6"
      },
      "execution_count": 40,
      "outputs": []
    },
    {
      "cell_type": "code",
      "source": [
        "expert = Expert(env)"
      ],
      "metadata": {
        "id": "E-uTNh6jvQp5"
      },
      "execution_count": 41,
      "outputs": []
    },
    {
      "cell_type": "code",
      "source": [
        "sqil_agent = SQILAgent(state_dim=8, action_dim=2)\n",
        "train_sqil_agent(env, sqil_agent, expert, 100)"
      ],
      "metadata": {
        "colab": {
          "base_uri": "https://localhost:8080/",
          "height": 304
        },
        "id": "wVd8yLl6vRsV",
        "outputId": "33792981-27d0-43e9-dcaf-140e8301608c"
      },
      "execution_count": 61,
      "outputs": [
        {
          "output_type": "error",
          "ename": "KeyboardInterrupt",
          "evalue": "",
          "traceback": [
            "\u001b[0;31m---------------------------------------------------------------------------\u001b[0m",
            "\u001b[0;31mKeyboardInterrupt\u001b[0m                         Traceback (most recent call last)",
            "\u001b[0;32m<ipython-input-61-c70f924727b0>\u001b[0m in \u001b[0;36m<cell line: 2>\u001b[0;34m()\u001b[0m\n\u001b[1;32m      1\u001b[0m \u001b[0msqil_agent\u001b[0m \u001b[0;34m=\u001b[0m \u001b[0mSQILAgent\u001b[0m\u001b[0;34m(\u001b[0m\u001b[0mstate_dim\u001b[0m\u001b[0;34m=\u001b[0m\u001b[0;36m8\u001b[0m\u001b[0;34m,\u001b[0m \u001b[0maction_dim\u001b[0m\u001b[0;34m=\u001b[0m\u001b[0;36m2\u001b[0m\u001b[0;34m)\u001b[0m\u001b[0;34m\u001b[0m\u001b[0;34m\u001b[0m\u001b[0m\n\u001b[0;32m----> 2\u001b[0;31m \u001b[0mtrain_sqil_agent\u001b[0m\u001b[0;34m(\u001b[0m\u001b[0menv\u001b[0m\u001b[0;34m,\u001b[0m \u001b[0msqil_agent\u001b[0m\u001b[0;34m,\u001b[0m \u001b[0mexpert\u001b[0m\u001b[0;34m,\u001b[0m \u001b[0;36m100\u001b[0m\u001b[0;34m)\u001b[0m\u001b[0;34m\u001b[0m\u001b[0;34m\u001b[0m\u001b[0m\n\u001b[0m",
            "\u001b[0;32m<ipython-input-37-e7dcb5a3ee89>\u001b[0m in \u001b[0;36mtrain_sqil_agent\u001b[0;34m(env, agent, expert, episodes)\u001b[0m\n\u001b[1;32m      9\u001b[0m             \u001b[0magent\u001b[0m\u001b[0;34m.\u001b[0m\u001b[0mreplay_buffer\u001b[0m\u001b[0;34m.\u001b[0m\u001b[0mappend\u001b[0m\u001b[0;34m(\u001b[0m\u001b[0;34m(\u001b[0m\u001b[0mstate\u001b[0m\u001b[0;34m,\u001b[0m \u001b[0maction\u001b[0m\u001b[0;34m)\u001b[0m\u001b[0;34m)\u001b[0m\u001b[0;34m\u001b[0m\u001b[0;34m\u001b[0m\u001b[0m\n\u001b[1;32m     10\u001b[0m             \u001b[0mstate\u001b[0m \u001b[0;34m=\u001b[0m \u001b[0mnext_state\u001b[0m\u001b[0;34m\u001b[0m\u001b[0;34m\u001b[0m\u001b[0m\n\u001b[0;32m---> 11\u001b[0;31m             \u001b[0magent\u001b[0m\u001b[0;34m.\u001b[0m\u001b[0mtrain\u001b[0m\u001b[0;34m(\u001b[0m\u001b[0;36m64\u001b[0m\u001b[0;34m)\u001b[0m\u001b[0;34m\u001b[0m\u001b[0;34m\u001b[0m\u001b[0m\n\u001b[0m",
            "\u001b[0;32m<ipython-input-60-ce332f7473fb>\u001b[0m in \u001b[0;36mtrain\u001b[0;34m(self, batch_size)\u001b[0m\n\u001b[1;32m     28\u001b[0m       \u001b[0mrewards\u001b[0m \u001b[0;34m=\u001b[0m \u001b[0mtorch\u001b[0m\u001b[0;34m.\u001b[0m\u001b[0mzeros\u001b[0m\u001b[0;34m(\u001b[0m\u001b[0mbatch_size\u001b[0m\u001b[0;34m)\u001b[0m\u001b[0;34m\u001b[0m\u001b[0;34m\u001b[0m\u001b[0m\n\u001b[1;32m     29\u001b[0m       \u001b[0;32mfor\u001b[0m \u001b[0mi\u001b[0m\u001b[0;34m,\u001b[0m \u001b[0;34m(\u001b[0m\u001b[0mstate\u001b[0m\u001b[0;34m,\u001b[0m \u001b[0maction\u001b[0m\u001b[0;34m)\u001b[0m \u001b[0;32min\u001b[0m \u001b[0menumerate\u001b[0m\u001b[0;34m(\u001b[0m\u001b[0mzip\u001b[0m\u001b[0;34m(\u001b[0m\u001b[0mstates\u001b[0m\u001b[0;34m,\u001b[0m \u001b[0mactions\u001b[0m\u001b[0;34m)\u001b[0m\u001b[0;34m)\u001b[0m\u001b[0;34m:\u001b[0m\u001b[0;34m\u001b[0m\u001b[0;34m\u001b[0m\u001b[0m\n\u001b[0;32m---> 30\u001b[0;31m           if any(np.array_equal(state.numpy(), ex_state) and np.array_equal(action.numpy(), ex_action)\n\u001b[0m\u001b[1;32m     31\u001b[0m                 for ex_state, ex_action in self.expert_data):\n\u001b[1;32m     32\u001b[0m               \u001b[0mrewards\u001b[0m\u001b[0;34m[\u001b[0m\u001b[0mi\u001b[0m\u001b[0;34m]\u001b[0m \u001b[0;34m=\u001b[0m \u001b[0;36m1\u001b[0m\u001b[0;34m\u001b[0m\u001b[0;34m\u001b[0m\u001b[0m\n",
            "\u001b[0;32m<ipython-input-60-ce332f7473fb>\u001b[0m in \u001b[0;36m<genexpr>\u001b[0;34m(.0)\u001b[0m\n\u001b[1;32m     28\u001b[0m       \u001b[0mrewards\u001b[0m \u001b[0;34m=\u001b[0m \u001b[0mtorch\u001b[0m\u001b[0;34m.\u001b[0m\u001b[0mzeros\u001b[0m\u001b[0;34m(\u001b[0m\u001b[0mbatch_size\u001b[0m\u001b[0;34m)\u001b[0m\u001b[0;34m\u001b[0m\u001b[0;34m\u001b[0m\u001b[0m\n\u001b[1;32m     29\u001b[0m       \u001b[0;32mfor\u001b[0m \u001b[0mi\u001b[0m\u001b[0;34m,\u001b[0m \u001b[0;34m(\u001b[0m\u001b[0mstate\u001b[0m\u001b[0;34m,\u001b[0m \u001b[0maction\u001b[0m\u001b[0;34m)\u001b[0m \u001b[0;32min\u001b[0m \u001b[0menumerate\u001b[0m\u001b[0;34m(\u001b[0m\u001b[0mzip\u001b[0m\u001b[0;34m(\u001b[0m\u001b[0mstates\u001b[0m\u001b[0;34m,\u001b[0m \u001b[0mactions\u001b[0m\u001b[0;34m)\u001b[0m\u001b[0;34m)\u001b[0m\u001b[0;34m:\u001b[0m\u001b[0;34m\u001b[0m\u001b[0;34m\u001b[0m\u001b[0m\n\u001b[0;32m---> 30\u001b[0;31m           if any(np.array_equal(state.numpy(), ex_state) and np.array_equal(action.numpy(), ex_action)\n\u001b[0m\u001b[1;32m     31\u001b[0m                 for ex_state, ex_action in self.expert_data):\n\u001b[1;32m     32\u001b[0m               \u001b[0mrewards\u001b[0m\u001b[0;34m[\u001b[0m\u001b[0mi\u001b[0m\u001b[0;34m]\u001b[0m \u001b[0;34m=\u001b[0m \u001b[0;36m1\u001b[0m\u001b[0;34m\u001b[0m\u001b[0;34m\u001b[0m\u001b[0m\n",
            "\u001b[0;32m/usr/local/lib/python3.10/dist-packages/numpy/core/numeric.py\u001b[0m in \u001b[0;36marray_equal\u001b[0;34m(a1, a2, equal_nan)\u001b[0m\n\u001b[1;32m   2434\u001b[0m     \u001b[0;32mexcept\u001b[0m \u001b[0mException\u001b[0m\u001b[0;34m:\u001b[0m\u001b[0;34m\u001b[0m\u001b[0;34m\u001b[0m\u001b[0m\n\u001b[1;32m   2435\u001b[0m         \u001b[0;32mreturn\u001b[0m \u001b[0;32mFalse\u001b[0m\u001b[0;34m\u001b[0m\u001b[0;34m\u001b[0m\u001b[0m\n\u001b[0;32m-> 2436\u001b[0;31m     \u001b[0;32mif\u001b[0m \u001b[0ma1\u001b[0m\u001b[0;34m.\u001b[0m\u001b[0mshape\u001b[0m \u001b[0;34m!=\u001b[0m \u001b[0ma2\u001b[0m\u001b[0;34m.\u001b[0m\u001b[0mshape\u001b[0m\u001b[0;34m:\u001b[0m\u001b[0;34m\u001b[0m\u001b[0;34m\u001b[0m\u001b[0m\n\u001b[0m\u001b[1;32m   2437\u001b[0m         \u001b[0;32mreturn\u001b[0m \u001b[0;32mFalse\u001b[0m\u001b[0;34m\u001b[0m\u001b[0;34m\u001b[0m\u001b[0m\n\u001b[1;32m   2438\u001b[0m     \u001b[0;32mif\u001b[0m \u001b[0;32mnot\u001b[0m \u001b[0mequal_nan\u001b[0m\u001b[0;34m:\u001b[0m\u001b[0;34m\u001b[0m\u001b[0;34m\u001b[0m\u001b[0m\n",
            "\u001b[0;31mKeyboardInterrupt\u001b[0m: "
          ]
        }
      ]
    },
    {
      "cell_type": "code",
      "source": [
        "sac_agent = SACAgent(state_dim=8, action_dim=2)\n",
        "sac_rewards = train_sac_agent(env, sac_agent, 100)"
      ],
      "metadata": {
        "id": "jk60WD1RvTLY"
      },
      "execution_count": 58,
      "outputs": []
    },
    {
      "cell_type": "code",
      "source": [
        "plot_results(sqil_agent.replay_buffer, sac_rewards)"
      ],
      "metadata": {
        "id": "kNBDMB0cvUeQ"
      },
      "execution_count": null,
      "outputs": []
    },
    {
      "cell_type": "code",
      "source": [
        "plt.plot(sac_rewards, label='SAC')\n",
        "plt.xlabel('Эпизоды')\n",
        "plt.ylabel('Награда')\n",
        "plt.legend()\n",
        "plt.title('SAC')\n",
        "plt.show()"
      ],
      "metadata": {
        "colab": {
          "base_uri": "https://localhost:8080/",
          "height": 472
        },
        "id": "DZD9atMY-n76",
        "outputId": "b2214ee8-8191-45a9-fda0-53206525b147"
      },
      "execution_count": 63,
      "outputs": [
        {
          "output_type": "display_data",
          "data": {
            "text/plain": [
              "<Figure size 640x480 with 1 Axes>"
            ],
            "image/png": "[encoded data removed]"
          },
          "metadata": {}
        }
      ]
    },
    {
      "cell_type": "code",
      "source": [],
      "metadata": {
        "id": "1egZuE1H-udy"
      },
      "execution_count": null,
      "outputs": []
    }
  ]
}